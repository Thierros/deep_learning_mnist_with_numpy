{
 "cells": [
  {
   "cell_type": "code",
   "execution_count": 1,
   "id": "d4ea72cf",
   "metadata": {
    "execution": {
     "iopub.execute_input": "2024-12-04T05:11:54.204033Z",
     "iopub.status.busy": "2024-12-04T05:11:54.203619Z",
     "iopub.status.idle": "2024-12-04T05:11:55.039792Z",
     "shell.execute_reply": "2024-12-04T05:11:55.038730Z"
    },
    "papermill": {
     "duration": 0.844297,
     "end_time": "2024-12-04T05:11:55.042099",
     "exception": false,
     "start_time": "2024-12-04T05:11:54.197802",
     "status": "completed"
    },
    "tags": []
   },
   "outputs": [],
   "source": [
    "import numpy as np\n",
    "import pandas as pd\n",
    "import matplotlib.pyplot as plt\n",
    "from tqdm import tqdm"
   ]
  },
  {
   "cell_type": "code",
   "execution_count": 2,
   "id": "f6e7bf8b",
   "metadata": {
    "execution": {
     "iopub.execute_input": "2024-12-04T05:11:55.051815Z",
     "iopub.status.busy": "2024-12-04T05:11:55.050709Z",
     "iopub.status.idle": "2024-12-04T05:11:55.058045Z",
     "shell.execute_reply": "2024-12-04T05:11:55.056870Z"
    },
    "papermill": {
     "duration": 0.014249,
     "end_time": "2024-12-04T05:11:55.060231",
     "exception": false,
     "start_time": "2024-12-04T05:11:55.045982",
     "status": "completed"
    },
    "tags": []
   },
   "outputs": [
    {
     "name": "stdout",
     "output_type": "stream",
     "text": [
      "/kaggle/input/digit-recognizer/sample_submission.csv\n",
      "/kaggle/input/digit-recognizer/train.csv\n",
      "/kaggle/input/digit-recognizer/test.csv\n"
     ]
    }
   ],
   "source": [
    "import os\n",
    "for dirname, _, filenames in os.walk('/kaggle/input'):\n",
    "    for filename in filenames:\n",
    "        print(os.path.join(dirname, filename))"
   ]
  },
  {
   "cell_type": "code",
   "execution_count": 3,
   "id": "1080d46b",
   "metadata": {
    "execution": {
     "iopub.execute_input": "2024-12-04T05:11:55.069742Z",
     "iopub.status.busy": "2024-12-04T05:11:55.068987Z",
     "iopub.status.idle": "2024-12-04T05:12:00.269848Z",
     "shell.execute_reply": "2024-12-04T05:12:00.268942Z"
    },
    "papermill": {
     "duration": 5.20818,
     "end_time": "2024-12-04T05:12:00.272373",
     "exception": false,
     "start_time": "2024-12-04T05:11:55.064193",
     "status": "completed"
    },
    "tags": []
   },
   "outputs": [],
   "source": [
    "train_data = pd.read_csv('/kaggle/input/digit-recognizer/train.csv')\n",
    "test_data = pd.read_csv('/kaggle/input/digit-recognizer/test.csv')\n"
   ]
  },
  {
   "cell_type": "code",
   "execution_count": 4,
   "id": "cd0ef5f0",
   "metadata": {
    "execution": {
     "iopub.execute_input": "2024-12-04T05:12:00.281519Z",
     "iopub.status.busy": "2024-12-04T05:12:00.281096Z",
     "iopub.status.idle": "2024-12-04T05:12:00.306205Z",
     "shell.execute_reply": "2024-12-04T05:12:00.305154Z"
    },
    "papermill": {
     "duration": 0.032021,
     "end_time": "2024-12-04T05:12:00.308263",
     "exception": false,
     "start_time": "2024-12-04T05:12:00.276242",
     "status": "completed"
    },
    "tags": []
   },
   "outputs": [
    {
     "data": {
      "text/html": [
       "<div>\n",
       "<style scoped>\n",
       "    .dataframe tbody tr th:only-of-type {\n",
       "        vertical-align: middle;\n",
       "    }\n",
       "\n",
       "    .dataframe tbody tr th {\n",
       "        vertical-align: top;\n",
       "    }\n",
       "\n",
       "    .dataframe thead th {\n",
       "        text-align: right;\n",
       "    }\n",
       "</style>\n",
       "<table border=\"1\" class=\"dataframe\">\n",
       "  <thead>\n",
       "    <tr style=\"text-align: right;\">\n",
       "      <th></th>\n",
       "      <th>label</th>\n",
       "      <th>pixel0</th>\n",
       "      <th>pixel1</th>\n",
       "      <th>pixel2</th>\n",
       "      <th>pixel3</th>\n",
       "      <th>pixel4</th>\n",
       "      <th>pixel5</th>\n",
       "      <th>pixel6</th>\n",
       "      <th>pixel7</th>\n",
       "      <th>pixel8</th>\n",
       "      <th>...</th>\n",
       "      <th>pixel774</th>\n",
       "      <th>pixel775</th>\n",
       "      <th>pixel776</th>\n",
       "      <th>pixel777</th>\n",
       "      <th>pixel778</th>\n",
       "      <th>pixel779</th>\n",
       "      <th>pixel780</th>\n",
       "      <th>pixel781</th>\n",
       "      <th>pixel782</th>\n",
       "      <th>pixel783</th>\n",
       "    </tr>\n",
       "  </thead>\n",
       "  <tbody>\n",
       "    <tr>\n",
       "      <th>0</th>\n",
       "      <td>1</td>\n",
       "      <td>0</td>\n",
       "      <td>0</td>\n",
       "      <td>0</td>\n",
       "      <td>0</td>\n",
       "      <td>0</td>\n",
       "      <td>0</td>\n",
       "      <td>0</td>\n",
       "      <td>0</td>\n",
       "      <td>0</td>\n",
       "      <td>...</td>\n",
       "      <td>0</td>\n",
       "      <td>0</td>\n",
       "      <td>0</td>\n",
       "      <td>0</td>\n",
       "      <td>0</td>\n",
       "      <td>0</td>\n",
       "      <td>0</td>\n",
       "      <td>0</td>\n",
       "      <td>0</td>\n",
       "      <td>0</td>\n",
       "    </tr>\n",
       "    <tr>\n",
       "      <th>1</th>\n",
       "      <td>0</td>\n",
       "      <td>0</td>\n",
       "      <td>0</td>\n",
       "      <td>0</td>\n",
       "      <td>0</td>\n",
       "      <td>0</td>\n",
       "      <td>0</td>\n",
       "      <td>0</td>\n",
       "      <td>0</td>\n",
       "      <td>0</td>\n",
       "      <td>...</td>\n",
       "      <td>0</td>\n",
       "      <td>0</td>\n",
       "      <td>0</td>\n",
       "      <td>0</td>\n",
       "      <td>0</td>\n",
       "      <td>0</td>\n",
       "      <td>0</td>\n",
       "      <td>0</td>\n",
       "      <td>0</td>\n",
       "      <td>0</td>\n",
       "    </tr>\n",
       "    <tr>\n",
       "      <th>2</th>\n",
       "      <td>1</td>\n",
       "      <td>0</td>\n",
       "      <td>0</td>\n",
       "      <td>0</td>\n",
       "      <td>0</td>\n",
       "      <td>0</td>\n",
       "      <td>0</td>\n",
       "      <td>0</td>\n",
       "      <td>0</td>\n",
       "      <td>0</td>\n",
       "      <td>...</td>\n",
       "      <td>0</td>\n",
       "      <td>0</td>\n",
       "      <td>0</td>\n",
       "      <td>0</td>\n",
       "      <td>0</td>\n",
       "      <td>0</td>\n",
       "      <td>0</td>\n",
       "      <td>0</td>\n",
       "      <td>0</td>\n",
       "      <td>0</td>\n",
       "    </tr>\n",
       "    <tr>\n",
       "      <th>3</th>\n",
       "      <td>4</td>\n",
       "      <td>0</td>\n",
       "      <td>0</td>\n",
       "      <td>0</td>\n",
       "      <td>0</td>\n",
       "      <td>0</td>\n",
       "      <td>0</td>\n",
       "      <td>0</td>\n",
       "      <td>0</td>\n",
       "      <td>0</td>\n",
       "      <td>...</td>\n",
       "      <td>0</td>\n",
       "      <td>0</td>\n",
       "      <td>0</td>\n",
       "      <td>0</td>\n",
       "      <td>0</td>\n",
       "      <td>0</td>\n",
       "      <td>0</td>\n",
       "      <td>0</td>\n",
       "      <td>0</td>\n",
       "      <td>0</td>\n",
       "    </tr>\n",
       "    <tr>\n",
       "      <th>4</th>\n",
       "      <td>0</td>\n",
       "      <td>0</td>\n",
       "      <td>0</td>\n",
       "      <td>0</td>\n",
       "      <td>0</td>\n",
       "      <td>0</td>\n",
       "      <td>0</td>\n",
       "      <td>0</td>\n",
       "      <td>0</td>\n",
       "      <td>0</td>\n",
       "      <td>...</td>\n",
       "      <td>0</td>\n",
       "      <td>0</td>\n",
       "      <td>0</td>\n",
       "      <td>0</td>\n",
       "      <td>0</td>\n",
       "      <td>0</td>\n",
       "      <td>0</td>\n",
       "      <td>0</td>\n",
       "      <td>0</td>\n",
       "      <td>0</td>\n",
       "    </tr>\n",
       "  </tbody>\n",
       "</table>\n",
       "<p>5 rows × 785 columns</p>\n",
       "</div>"
      ],
      "text/plain": [
       "   label  pixel0  pixel1  pixel2  pixel3  pixel4  pixel5  pixel6  pixel7  \\\n",
       "0      1       0       0       0       0       0       0       0       0   \n",
       "1      0       0       0       0       0       0       0       0       0   \n",
       "2      1       0       0       0       0       0       0       0       0   \n",
       "3      4       0       0       0       0       0       0       0       0   \n",
       "4      0       0       0       0       0       0       0       0       0   \n",
       "\n",
       "   pixel8  ...  pixel774  pixel775  pixel776  pixel777  pixel778  pixel779  \\\n",
       "0       0  ...         0         0         0         0         0         0   \n",
       "1       0  ...         0         0         0         0         0         0   \n",
       "2       0  ...         0         0         0         0         0         0   \n",
       "3       0  ...         0         0         0         0         0         0   \n",
       "4       0  ...         0         0         0         0         0         0   \n",
       "\n",
       "   pixel780  pixel781  pixel782  pixel783  \n",
       "0         0         0         0         0  \n",
       "1         0         0         0         0  \n",
       "2         0         0         0         0  \n",
       "3         0         0         0         0  \n",
       "4         0         0         0         0  \n",
       "\n",
       "[5 rows x 785 columns]"
      ]
     },
     "execution_count": 4,
     "metadata": {},
     "output_type": "execute_result"
    }
   ],
   "source": [
    "train_data.head()"
   ]
  },
  {
   "cell_type": "code",
   "execution_count": 5,
   "id": "550d2c46",
   "metadata": {
    "execution": {
     "iopub.execute_input": "2024-12-04T05:12:00.318267Z",
     "iopub.status.busy": "2024-12-04T05:12:00.317463Z",
     "iopub.status.idle": "2024-12-04T05:12:01.105287Z",
     "shell.execute_reply": "2024-12-04T05:12:01.104424Z"
    },
    "papermill": {
     "duration": 0.795304,
     "end_time": "2024-12-04T05:12:01.107717",
     "exception": false,
     "start_time": "2024-12-04T05:12:00.312413",
     "status": "completed"
    },
    "tags": []
   },
   "outputs": [],
   "source": [
    "data =  np.array(train_data)\n",
    "submission_data = np.array(test_data)\n",
    "m, n = data.shape\n",
    "\n",
    "np.random.shuffle(data)"
   ]
  },
  {
   "cell_type": "code",
   "execution_count": 6,
   "id": "40f0dbb9",
   "metadata": {
    "execution": {
     "iopub.execute_input": "2024-12-04T05:12:01.117862Z",
     "iopub.status.busy": "2024-12-04T05:12:01.117094Z",
     "iopub.status.idle": "2024-12-04T05:12:01.355538Z",
     "shell.execute_reply": "2024-12-04T05:12:01.354420Z"
    },
    "papermill": {
     "duration": 0.246323,
     "end_time": "2024-12-04T05:12:01.358190",
     "exception": false,
     "start_time": "2024-12-04T05:12:01.111867",
     "status": "completed"
    },
    "tags": []
   },
   "outputs": [],
   "source": [
    "data_test = data[0:1000].T\n",
    "X_test = data_test[1:n]\n",
    "Y_test = data_test[0]\n",
    "X_test = X_test / 255.\n",
    "\n",
    "data_train = data[1000:m].T\n",
    "X_train = data_train[1:n]\n",
    "Y_train = data_train[0]\n",
    "X_train = X_train / 255.\n",
    "\n",
    "submission_data = (submission_data / 255.)\n",
    "submission_data = submission_data.T"
   ]
  },
  {
   "cell_type": "code",
   "execution_count": 7,
   "id": "bdb9a4c1",
   "metadata": {
    "execution": {
     "iopub.execute_input": "2024-12-04T05:12:01.371078Z",
     "iopub.status.busy": "2024-12-04T05:12:01.370545Z",
     "iopub.status.idle": "2024-12-04T05:12:01.389835Z",
     "shell.execute_reply": "2024-12-04T05:12:01.388739Z"
    },
    "papermill": {
     "duration": 0.029558,
     "end_time": "2024-12-04T05:12:01.392332",
     "exception": false,
     "start_time": "2024-12-04T05:12:01.362774",
     "status": "completed"
    },
    "tags": []
   },
   "outputs": [],
   "source": [
    "# functions\n",
    "def init_params(input_size, hidden_size, output_size):\n",
    "    W1 = np.random.randn(hidden_size, input_size) * np.sqrt(2 / input_size)\n",
    "    b1 = np.zeros((hidden_size, 1))\n",
    "    W2 = np.random.randn(output_size, hidden_size) * np.sqrt(2 / hidden_size)\n",
    "    b2 = np.zeros((output_size, 1))\n",
    "    return W1, W2, b1, b2\n",
    "\n",
    "def ReLU(z):\n",
    "    return np.maximum(0, z)\n",
    "\n",
    "def softmax(Z):\n",
    "    A = np.exp(Z) / sum(np.exp(Z))\n",
    "    return A\n",
    "\n",
    "\n",
    "def forward_prop(W1, W2, b1, b2, X):\n",
    "    Z1 = W1.dot(X) + b1\n",
    "    A1 = ReLU(Z1)\n",
    "    Z2 = W2.dot(A1) + b2\n",
    "    A2 = softmax(Z2)\n",
    "    return Z1, A1, Z2, A2\n",
    "\n",
    "def one_hot(Y):\n",
    "    one_hot_Y = np.zeros((Y.size, Y.max() + 1))\n",
    "    one_hot_Y[np.arange(Y.size), Y] = 1\n",
    "    one_hot_Y = one_hot_Y.T\n",
    "    return one_hot_Y\n",
    "\n",
    "def deriv_ReLU(z):\n",
    "    return z > 0\n",
    "\n",
    "def back_prop(Z1, A1, Z2, A2, W1, W2, X, Y):\n",
    "    # m = Y.size\n",
    "    one_hot_Y = one_hot(Y)\n",
    "    dZ2 = A2 - one_hot_Y\n",
    "    dW2 = 1 / m * dZ2.dot(A1.T)\n",
    "    db2 = 1 / m * np.sum(dZ2)\n",
    "    dZ1 = W2.T.dot(dZ2) * deriv_ReLU(Z1)\n",
    "    dW1 = 1/ m * dZ1.dot(X.T)\n",
    "    db1 = 1 / m * np.sum(dZ1)\n",
    "    return dW1, db1, dW2, db2\n",
    "\n",
    "def update_params(W1, b1, W2, b2, dW1, db1, dW2, db2, alpha):\n",
    "    W1 = W1 - alpha * dW1\n",
    "    W2 = W2 - alpha * dW2\n",
    "    b1 = b1 - alpha * db1\n",
    "    b2 = b2 - alpha * db2\n",
    "    return W1, b1, W2, b2\n",
    "\n",
    "def get_predictions(A2):\n",
    "    return np.argmax(A2, 0)\n",
    "\n",
    "def get_accuracy(predictions, Y):\n",
    "    return np.sum(predictions == Y) / Y.size\n",
    "\n",
    "def gradient_descent(X, Y, iterations, alpha):\n",
    "    W1, W2, b1, b2 = init_params(784, 10, 10)\n",
    "    for i in range(0, iterations+1):\n",
    "        Z1,A1, Z2, A2 = forward_prop(W1, W2, b1, b2, X)\n",
    "        dW1, db1, dW2, db2 = back_prop(Z1,A1, Z2, A2, W1, W2, X, Y)\n",
    "        W1, b1,W2, b2 = update_params(W1, b1, W2, b2, dW1, db1, dW2, db2, alpha)\n",
    "        if i % 100 == 0:\n",
    "            print(f\"Iteration: {i}\")\n",
    "            print(f\"Accuracy: {get_accuracy(get_predictions(A2), Y)}\")\n",
    "\n",
    "    return W1, b1, W2, b2\n",
    "\n",
    "def make_predictions(X, W1, b1, W2, b2):\n",
    "    _, _, _, A2 = forward_prop(W1, W2, b1, b2, X)\n",
    "    predictions = get_predictions(A2)\n",
    "    return predictions\n",
    "\n",
    "def test_prediction(index, W1, b1, W2, b2):\n",
    "    current_image = X_train[:, index, None]\n",
    "    prediction = make_predictions(X_train[:, index, None], W1, b1, W2, b2)\n",
    "    label = Y_train[index]\n",
    "    print(\"Prediction: \", prediction)\n",
    "    print(\"Label: \", label)\n",
    "    \n",
    "    current_image = current_image.reshape((28, 28)) * 255\n",
    "    plt.gray()\n",
    "    plt.imshow(current_image, interpolation='nearest')\n",
    "    plt.show()"
   ]
  },
  {
   "cell_type": "code",
   "execution_count": 8,
   "id": "51eb9c0b",
   "metadata": {
    "execution": {
     "iopub.execute_input": "2024-12-04T05:12:01.404559Z",
     "iopub.status.busy": "2024-12-04T05:12:01.403493Z",
     "iopub.status.idle": "2024-12-04T05:13:49.687146Z",
     "shell.execute_reply": "2024-12-04T05:13:49.685350Z"
    },
    "papermill": {
     "duration": 108.292376,
     "end_time": "2024-12-04T05:13:49.690286",
     "exception": false,
     "start_time": "2024-12-04T05:12:01.397910",
     "status": "completed"
    },
    "tags": []
   },
   "outputs": [
    {
     "name": "stdout",
     "output_type": "stream",
     "text": [
      "Iteration: 0\n",
      "Accuracy: 0.08219512195121952\n",
      "Iteration: 100\n",
      "Accuracy: 0.8523414634146341\n",
      "Iteration: 200\n",
      "Accuracy: 0.8859512195121951\n",
      "Iteration: 300\n",
      "Accuracy: 0.8976341463414634\n",
      "Iteration: 400\n",
      "Accuracy: 0.9042926829268293\n",
      "Iteration: 500\n",
      "Accuracy: 0.9085853658536586\n",
      "Iteration: 600\n",
      "Accuracy: 0.9119268292682927\n",
      "Iteration: 700\n",
      "Accuracy: 0.9146829268292683\n",
      "Iteration: 800\n",
      "Accuracy: 0.9170731707317074\n",
      "Iteration: 900\n",
      "Accuracy: 0.9188536585365854\n",
      "Iteration: 1000\n",
      "Accuracy: 0.9206829268292683\n"
     ]
    }
   ],
   "source": [
    "# train th model here\n",
    "W1, b1, W2, b2 = gradient_descent(X_train, Y_train, 1000, 0.10)"
   ]
  },
  {
   "cell_type": "code",
   "execution_count": 9,
   "id": "319bc56b",
   "metadata": {
    "execution": {
     "iopub.execute_input": "2024-12-04T05:13:49.709933Z",
     "iopub.status.busy": "2024-12-04T05:13:49.709093Z",
     "iopub.status.idle": "2024-12-04T05:13:50.358255Z",
     "shell.execute_reply": "2024-12-04T05:13:50.357300Z"
    },
    "papermill": {
     "duration": 0.661903,
     "end_time": "2024-12-04T05:13:50.360653",
     "exception": false,
     "start_time": "2024-12-04T05:13:49.698750",
     "status": "completed"
    },
    "tags": []
   },
   "outputs": [
    {
     "name": "stdout",
     "output_type": "stream",
     "text": [
      "Prediction:  [4]\n",
      "Label:  7\n"
     ]
    },
    {
     "data": {
      "image/png": "[encoded data removed]",
      "text/plain": [
       "<Figure size 640x480 with 1 Axes>"
      ]
     },
     "metadata": {},
     "output_type": "display_data"
    },
    {
     "name": "stdout",
     "output_type": "stream",
     "text": [
      "Prediction:  [7]\n",
      "Label:  7\n"
     ]
    },
    {
     "data": {
      "image/png": "[encoded data removed]",
      "text/plain": [
       "<Figure size 640x480 with 1 Axes>"
      ]
     },
     "metadata": {},
     "output_type": "display_data"
    },
    {
     "name": "stdout",
     "output_type": "stream",
     "text": [
      "Prediction:  [1]\n",
      "Label:  1\n"
     ]
    },
    {
     "data": {
      "image/png": "[encoded data removed]",
      "text/plain": [
       "<Figure size 640x480 with 1 Axes>"
      ]
     },
     "metadata": {},
     "output_type": "display_data"
    },
    {
     "name": "stdout",
     "output_type": "stream",
     "text": [
      "Prediction:  [2]\n",
      "Label:  2\n"
     ]
    },
    {
     "data": {
      "image/png": "[encoded data removed]",
      "text/plain": [
       "<Figure size 640x480 with 1 Axes>"
      ]
     },
     "metadata": {},
     "output_type": "display_data"
    }
   ],
   "source": [
    "test_prediction(0, W1, b1, W2, b2)\n",
    "test_prediction(1, W1, b1, W2, b2)\n",
    "test_prediction(2, W1, b1, W2, b2)\n",
    "test_prediction(3, W1, b1, W2, b2)"
   ]
  },
  {
   "cell_type": "code",
   "execution_count": 10,
   "id": "f961b1c5",
   "metadata": {
    "execution": {
     "iopub.execute_input": "2024-12-04T05:13:50.374210Z",
     "iopub.status.busy": "2024-12-04T05:13:50.373245Z",
     "iopub.status.idle": "2024-12-04T05:13:50.384916Z",
     "shell.execute_reply": "2024-12-04T05:13:50.383143Z"
    },
    "papermill": {
     "duration": 0.022116,
     "end_time": "2024-12-04T05:13:50.388413",
     "exception": false,
     "start_time": "2024-12-04T05:13:50.366297",
     "status": "completed"
    },
    "tags": []
   },
   "outputs": [
    {
     "data": {
      "text/plain": [
       "0.915"
      ]
     },
     "execution_count": 10,
     "metadata": {},
     "output_type": "execute_result"
    }
   ],
   "source": [
    "test_predictions = make_predictions(X_test, W1, b1, W2, b2)\n",
    "get_accuracy(test_predictions, Y_test)"
   ]
  },
  {
   "cell_type": "code",
   "execution_count": 11,
   "id": "6146331a",
   "metadata": {
    "execution": {
     "iopub.execute_input": "2024-12-04T05:13:50.411743Z",
     "iopub.status.busy": "2024-12-04T05:13:50.411032Z",
     "iopub.status.idle": "2024-12-04T05:13:50.422128Z",
     "shell.execute_reply": "2024-12-04T05:13:50.421024Z"
    },
    "papermill": {
     "duration": 0.027842,
     "end_time": "2024-12-04T05:13:50.426960",
     "exception": false,
     "start_time": "2024-12-04T05:13:50.399118",
     "status": "completed"
    },
    "tags": []
   },
   "outputs": [
    {
     "data": {
      "text/plain": [
       "((784, 1000), (1000,))"
      ]
     },
     "execution_count": 11,
     "metadata": {},
     "output_type": "execute_result"
    }
   ],
   "source": [
    "X_test.shape, test_predictions.shape"
   ]
  },
  {
   "cell_type": "code",
   "execution_count": 12,
   "id": "a5f90871",
   "metadata": {
    "execution": {
     "iopub.execute_input": "2024-12-04T05:13:50.450443Z",
     "iopub.status.busy": "2024-12-04T05:13:50.449919Z",
     "iopub.status.idle": "2024-12-04T05:13:50.466557Z",
     "shell.execute_reply": "2024-12-04T05:13:50.465417Z"
    },
    "papermill": {
     "duration": 0.032813,
     "end_time": "2024-12-04T05:13:50.470329",
     "exception": false,
     "start_time": "2024-12-04T05:13:50.437516",
     "status": "completed"
    },
    "tags": []
   },
   "outputs": [],
   "source": [
    "s_m, s_n = submission_data.shape\n",
    "imageIndex = [i+1 for i in range(0, s_n)]\n",
    "imageIndex = np.array(imageIndex)"
   ]
  },
  {
   "cell_type": "code",
   "execution_count": 13,
   "id": "39e5c704",
   "metadata": {
    "execution": {
     "iopub.execute_input": "2024-12-04T05:13:50.495611Z",
     "iopub.status.busy": "2024-12-04T05:13:50.494684Z",
     "iopub.status.idle": "2024-12-04T05:13:50.553885Z",
     "shell.execute_reply": "2024-12-04T05:13:50.552665Z"
    },
    "papermill": {
     "duration": 0.075891,
     "end_time": "2024-12-04T05:13:50.557369",
     "exception": false,
     "start_time": "2024-12-04T05:13:50.481478",
     "status": "completed"
    },
    "tags": []
   },
   "outputs": [],
   "source": [
    "submission_pred = make_predictions(submission_data, W1, b1, W2, b2)\n",
    "\n",
    "submission_df = pd.DataFrame({\n",
    "    \"ImageId\": imageIndex,\n",
    "    \"Label\": submission_pred\n",
    "})"
   ]
  },
  {
   "cell_type": "code",
   "execution_count": 14,
   "id": "6517d3ee",
   "metadata": {
    "execution": {
     "iopub.execute_input": "2024-12-04T05:13:50.582045Z",
     "iopub.status.busy": "2024-12-04T05:13:50.581217Z",
     "iopub.status.idle": "2024-12-04T05:13:50.649528Z",
     "shell.execute_reply": "2024-12-04T05:13:50.648329Z"
    },
    "papermill": {
     "duration": 0.084876,
     "end_time": "2024-12-04T05:13:50.652929",
     "exception": false,
     "start_time": "2024-12-04T05:13:50.568053",
     "status": "completed"
    },
    "tags": []
   },
   "outputs": [],
   "source": [
    "submission_df.to_csv(\"submission.csv\")"
   ]
  },
  {
   "cell_type": "code",
   "execution_count": null,
   "id": "9cc67b4e",
   "metadata": {
    "papermill": {
     "duration": 0.005516,
     "end_time": "2024-12-04T05:13:50.666262",
     "exception": false,
     "start_time": "2024-12-04T05:13:50.660746",
     "status": "completed"
    },
    "tags": []
   },
   "outputs": [],
   "source": []
  }
 ],
 "metadata": {
  "kaggle": {
   "accelerator": "none",
   "dataSources": [
    {
     "databundleVersionId": 861823,
     "sourceId": 3004,
     "sourceType": "competition"
    }
   ],
   "dockerImageVersionId": 30786,
   "isGpuEnabled": false,
   "isInternetEnabled": false,
   "language": "python",
   "sourceType": "notebook"
  },
  "kernelspec": {
   "display_name": "Python 3",
   "language": "python",
   "name": "python3"
  },
  "language_info": {
   "codemirror_mode": {
    "name": "ipython",
    "version": 3
   },
   "file_extension": ".py",
   "mimetype": "text/x-python",
   "name": "python",
   "nbconvert_exporter": "python",
   "pygments_lexer": "ipython3",
   "version": "3.10.14"
  },
  "papermill": {
   "default_parameters": {},
   "duration": 119.661737,
   "end_time": "2024-12-04T05:13:51.192410",
   "environment_variables": {},
   "exception": null,
   "input_path": "__notebook__.ipynb",
   "output_path": "__notebook__.ipynb",
   "parameters": {},
   "start_time": "2024-12-04T05:11:51.530673",
   "version": "2.6.0"
  }
 },
 "nbformat": 4,
 "nbformat_minor": 5
}
