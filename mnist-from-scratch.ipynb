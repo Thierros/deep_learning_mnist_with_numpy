{
 "cells": [
  {
   "cell_type": "code",
   "execution_count": 1,
   "id": "16387019",
   "metadata": {
    "execution": {
     "iopub.execute_input": "2024-12-28T23:15:54.105573Z",
     "iopub.status.busy": "2024-12-28T23:15:54.105135Z",
     "iopub.status.idle": "2024-12-28T23:15:55.092095Z",
     "shell.execute_reply": "2024-12-28T23:15:55.090927Z"
    },
    "papermill": {
     "duration": 0.996118,
     "end_time": "2024-12-28T23:15:55.094580",
     "exception": false,
     "start_time": "2024-12-28T23:15:54.098462",
     "status": "completed"
    },
    "tags": []
   },
   "outputs": [],
   "source": [
    "import numpy as np\n",
    "import pandas as pd\n",
    "import matplotlib.pyplot as plt\n",
    "from tqdm import tqdm"
   ]
  },
  {
   "cell_type": "code",
   "execution_count": 2,
   "id": "e0a15532",
   "metadata": {
    "execution": {
     "iopub.execute_input": "2024-12-28T23:15:55.104658Z",
     "iopub.status.busy": "2024-12-28T23:15:55.104122Z",
     "iopub.status.idle": "2024-12-28T23:15:55.111027Z",
     "shell.execute_reply": "2024-12-28T23:15:55.109801Z"
    },
    "papermill": {
     "duration": 0.014237,
     "end_time": "2024-12-28T23:15:55.113149",
     "exception": false,
     "start_time": "2024-12-28T23:15:55.098912",
     "status": "completed"
    },
    "tags": []
   },
   "outputs": [
    {
     "name": "stdout",
     "output_type": "stream",
     "text": [
      "/kaggle/input/digit-recognizer/sample_submission.csv\n",
      "/kaggle/input/digit-recognizer/train.csv\n",
      "/kaggle/input/digit-recognizer/test.csv\n"
     ]
    }
   ],
   "source": [
    "import os\n",
    "for dirname, _, filenames in os.walk('/kaggle/input'):\n",
    "    for filename in filenames:\n",
    "        print(os.path.join(dirname, filename))"
   ]
  },
  {
   "cell_type": "code",
   "execution_count": 3,
   "id": "423a1f9f",
   "metadata": {
    "execution": {
     "iopub.execute_input": "2024-12-28T23:15:55.122953Z",
     "iopub.status.busy": "2024-12-28T23:15:55.122556Z",
     "iopub.status.idle": "2024-12-28T23:16:00.457752Z",
     "shell.execute_reply": "2024-12-28T23:16:00.456315Z"
    },
    "papermill": {
     "duration": 5.34301,
     "end_time": "2024-12-28T23:16:00.460379",
     "exception": false,
     "start_time": "2024-12-28T23:15:55.117369",
     "status": "completed"
    },
    "tags": []
   },
   "outputs": [],
   "source": [
    "train_data = pd.read_csv('/kaggle/input/digit-recognizer/train.csv')\n",
    "test_data = pd.read_csv('/kaggle/input/digit-recognizer/test.csv')\n"
   ]
  },
  {
   "cell_type": "code",
   "execution_count": 4,
   "id": "9bb19a72",
   "metadata": {
    "execution": {
     "iopub.execute_input": "2024-12-28T23:16:00.470551Z",
     "iopub.status.busy": "2024-12-28T23:16:00.470115Z",
     "iopub.status.idle": "2024-12-28T23:16:00.495738Z",
     "shell.execute_reply": "2024-12-28T23:16:00.494548Z"
    },
    "papermill": {
     "duration": 0.033561,
     "end_time": "2024-12-28T23:16:00.498250",
     "exception": false,
     "start_time": "2024-12-28T23:16:00.464689",
     "status": "completed"
    },
    "tags": []
   },
   "outputs": [
    {
     "data": {
      "text/html": [
       "<div>\n",
       "<style scoped>\n",
       "    .dataframe tbody tr th:only-of-type {\n",
       "        vertical-align: middle;\n",
       "    }\n",
       "\n",
       "    .dataframe tbody tr th {\n",
       "        vertical-align: top;\n",
       "    }\n",
       "\n",
       "    .dataframe thead th {\n",
       "        text-align: right;\n",
       "    }\n",
       "</style>\n",
       "<table border=\"1\" class=\"dataframe\">\n",
       "  <thead>\n",
       "    <tr style=\"text-align: right;\">\n",
       "      <th></th>\n",
       "      <th>label</th>\n",
       "      <th>pixel0</th>\n",
       "      <th>pixel1</th>\n",
       "      <th>pixel2</th>\n",
       "      <th>pixel3</th>\n",
       "      <th>pixel4</th>\n",
       "      <th>pixel5</th>\n",
       "      <th>pixel6</th>\n",
       "      <th>pixel7</th>\n",
       "      <th>pixel8</th>\n",
       "      <th>...</th>\n",
       "      <th>pixel774</th>\n",
       "      <th>pixel775</th>\n",
       "      <th>pixel776</th>\n",
       "      <th>pixel777</th>\n",
       "      <th>pixel778</th>\n",
       "      <th>pixel779</th>\n",
       "      <th>pixel780</th>\n",
       "      <th>pixel781</th>\n",
       "      <th>pixel782</th>\n",
       "      <th>pixel783</th>\n",
       "    </tr>\n",
       "  </thead>\n",
       "  <tbody>\n",
       "    <tr>\n",
       "      <th>0</th>\n",
       "      <td>1</td>\n",
       "      <td>0</td>\n",
       "      <td>0</td>\n",
       "      <td>0</td>\n",
       "      <td>0</td>\n",
       "      <td>0</td>\n",
       "      <td>0</td>\n",
       "      <td>0</td>\n",
       "      <td>0</td>\n",
       "      <td>0</td>\n",
       "      <td>...</td>\n",
       "      <td>0</td>\n",
       "      <td>0</td>\n",
       "      <td>0</td>\n",
       "      <td>0</td>\n",
       "      <td>0</td>\n",
       "      <td>0</td>\n",
       "      <td>0</td>\n",
       "      <td>0</td>\n",
       "      <td>0</td>\n",
       "      <td>0</td>\n",
       "    </tr>\n",
       "    <tr>\n",
       "      <th>1</th>\n",
       "      <td>0</td>\n",
       "      <td>0</td>\n",
       "      <td>0</td>\n",
       "      <td>0</td>\n",
       "      <td>0</td>\n",
       "      <td>0</td>\n",
       "      <td>0</td>\n",
       "      <td>0</td>\n",
       "      <td>0</td>\n",
       "      <td>0</td>\n",
       "      <td>...</td>\n",
       "      <td>0</td>\n",
       "      <td>0</td>\n",
       "      <td>0</td>\n",
       "      <td>0</td>\n",
       "      <td>0</td>\n",
       "      <td>0</td>\n",
       "      <td>0</td>\n",
       "      <td>0</td>\n",
       "      <td>0</td>\n",
       "      <td>0</td>\n",
       "    </tr>\n",
       "    <tr>\n",
       "      <th>2</th>\n",
       "      <td>1</td>\n",
       "      <td>0</td>\n",
       "      <td>0</td>\n",
       "      <td>0</td>\n",
       "      <td>0</td>\n",
       "      <td>0</td>\n",
       "      <td>0</td>\n",
       "      <td>0</td>\n",
       "      <td>0</td>\n",
       "      <td>0</td>\n",
       "      <td>...</td>\n",
       "      <td>0</td>\n",
       "      <td>0</td>\n",
       "      <td>0</td>\n",
       "      <td>0</td>\n",
       "      <td>0</td>\n",
       "      <td>0</td>\n",
       "      <td>0</td>\n",
       "      <td>0</td>\n",
       "      <td>0</td>\n",
       "      <td>0</td>\n",
       "    </tr>\n",
       "    <tr>\n",
       "      <th>3</th>\n",
       "      <td>4</td>\n",
       "      <td>0</td>\n",
       "      <td>0</td>\n",
       "      <td>0</td>\n",
       "      <td>0</td>\n",
       "      <td>0</td>\n",
       "      <td>0</td>\n",
       "      <td>0</td>\n",
       "      <td>0</td>\n",
       "      <td>0</td>\n",
       "      <td>...</td>\n",
       "      <td>0</td>\n",
       "      <td>0</td>\n",
       "      <td>0</td>\n",
       "      <td>0</td>\n",
       "      <td>0</td>\n",
       "      <td>0</td>\n",
       "      <td>0</td>\n",
       "      <td>0</td>\n",
       "      <td>0</td>\n",
       "      <td>0</td>\n",
       "    </tr>\n",
       "    <tr>\n",
       "      <th>4</th>\n",
       "      <td>0</td>\n",
       "      <td>0</td>\n",
       "      <td>0</td>\n",
       "      <td>0</td>\n",
       "      <td>0</td>\n",
       "      <td>0</td>\n",
       "      <td>0</td>\n",
       "      <td>0</td>\n",
       "      <td>0</td>\n",
       "      <td>0</td>\n",
       "      <td>...</td>\n",
       "      <td>0</td>\n",
       "      <td>0</td>\n",
       "      <td>0</td>\n",
       "      <td>0</td>\n",
       "      <td>0</td>\n",
       "      <td>0</td>\n",
       "      <td>0</td>\n",
       "      <td>0</td>\n",
       "      <td>0</td>\n",
       "      <td>0</td>\n",
       "    </tr>\n",
       "  </tbody>\n",
       "</table>\n",
       "<p>5 rows × 785 columns</p>\n",
       "</div>"
      ],
      "text/plain": [
       "   label  pixel0  pixel1  pixel2  pixel3  pixel4  pixel5  pixel6  pixel7  \\\n",
       "0      1       0       0       0       0       0       0       0       0   \n",
       "1      0       0       0       0       0       0       0       0       0   \n",
       "2      1       0       0       0       0       0       0       0       0   \n",
       "3      4       0       0       0       0       0       0       0       0   \n",
       "4      0       0       0       0       0       0       0       0       0   \n",
       "\n",
       "   pixel8  ...  pixel774  pixel775  pixel776  pixel777  pixel778  pixel779  \\\n",
       "0       0  ...         0         0         0         0         0         0   \n",
       "1       0  ...         0         0         0         0         0         0   \n",
       "2       0  ...         0         0         0         0         0         0   \n",
       "3       0  ...         0         0         0         0         0         0   \n",
       "4       0  ...         0         0         0         0         0         0   \n",
       "\n",
       "   pixel780  pixel781  pixel782  pixel783  \n",
       "0         0         0         0         0  \n",
       "1         0         0         0         0  \n",
       "2         0         0         0         0  \n",
       "3         0         0         0         0  \n",
       "4         0         0         0         0  \n",
       "\n",
       "[5 rows x 785 columns]"
      ]
     },
     "execution_count": 4,
     "metadata": {},
     "output_type": "execute_result"
    }
   ],
   "source": [
    "train_data.head()"
   ]
  },
  {
   "cell_type": "code",
   "execution_count": 5,
   "id": "5eeb4542",
   "metadata": {
    "execution": {
     "iopub.execute_input": "2024-12-28T23:16:00.509576Z",
     "iopub.status.busy": "2024-12-28T23:16:00.508487Z",
     "iopub.status.idle": "2024-12-28T23:16:01.304957Z",
     "shell.execute_reply": "2024-12-28T23:16:01.303941Z"
    },
    "papermill": {
     "duration": 0.804645,
     "end_time": "2024-12-28T23:16:01.307478",
     "exception": false,
     "start_time": "2024-12-28T23:16:00.502833",
     "status": "completed"
    },
    "tags": []
   },
   "outputs": [],
   "source": [
    "data =  np.array(train_data)\n",
    "submission_data = np.array(test_data)\n",
    "m, n = data.shape\n",
    "\n",
    "np.random.shuffle(data)"
   ]
  },
  {
   "cell_type": "code",
   "execution_count": 6,
   "id": "d76d9cd9",
   "metadata": {
    "execution": {
     "iopub.execute_input": "2024-12-28T23:16:01.318461Z",
     "iopub.status.busy": "2024-12-28T23:16:01.318071Z",
     "iopub.status.idle": "2024-12-28T23:16:01.578057Z",
     "shell.execute_reply": "2024-12-28T23:16:01.577070Z"
    },
    "papermill": {
     "duration": 0.268015,
     "end_time": "2024-12-28T23:16:01.580447",
     "exception": false,
     "start_time": "2024-12-28T23:16:01.312432",
     "status": "completed"
    },
    "tags": []
   },
   "outputs": [],
   "source": [
    "data_test = data[0:1000].T\n",
    "X_test = data_test[1:n]\n",
    "Y_test = data_test[0]\n",
    "X_test = X_test / 255. # normalisation\n",
    "\n",
    "data_train = data[1000:m].T\n",
    "X_train = data_train[1:n]\n",
    "Y_train = data_train[0]\n",
    "X_train = X_train / 255. # normalisation\n",
    "\n",
    "submission_data = (submission_data / 255.)\n",
    "submission_data = submission_data.T"
   ]
  },
  {
   "cell_type": "markdown",
   "id": "4725450b",
   "metadata": {
    "papermill": {
     "duration": 0.004057,
     "end_time": "2024-12-28T23:16:01.589037",
     "exception": false,
     "start_time": "2024-12-28T23:16:01.584980",
     "status": "completed"
    },
    "tags": []
   },
   "source": [
    "- The input layer has 784 entries, corresponding to the size of the input image (28x28 pixels).\n",
    "- The hidden layer contains 10 units with ReLU activation.\n",
    "- Finally, the output layer consists of 10 units, representing the 10 digits to predict, with a softmax activation.\n",
    "\n",
    "**Forward propagation**\n",
    "\n",
    "$$Z^{[1]} = W^{[1]} X + b^{[1]}$$\n",
    "$$A^{[1]} = {\\text{ReLU}}(Z^{[1]}))$$\n",
    "$$Z^{[2]} = W^{[2]} A^{[1]} + b^{[2]}$$\n",
    "$$A^{[2]} = {\\text{softmax}}(Z^{[2]})$$\n",
    "\n",
    "**Backward propagation**\n",
    "\n",
    "$$dZ^{[2]} = A^{[2]} - Y$$\n",
    "$$dW^{[2]} = \\frac{1}{m} dZ^{[2]} A^{[1]T}$$\n",
    "$$dB^{[2]} = \\frac{1}{m} \\Sigma {dZ^{[2]}}$$\n",
    "$$dZ^{[1]} = W^{[2]T} dZ^{[2]} .* g^{[1]\\prime} (z^{[1]})$$\n",
    "$$dW^{[1]} = \\frac{1}{m} dZ^{[1]} A^{[0]T}$$\n",
    "$$dB^{[1]} = \\frac{1}{m} \\Sigma {dZ^{[1]}}$$\n",
    "\n",
    "**Parameter updates**\n",
    "\n",
    "$$W^{[2]} := W^{[2]} - \\alpha dW^{[2]}$$\n",
    "$$b^{[2]} := b^{[2]} - \\alpha db^{[2]}$$\n",
    "$$W^{[1]} := W^{[1]} - \\alpha dW^{[1]}$$\n",
    "$$b^{[1]} := b^{[1]} - \\alpha db^{[1]}$$\n",
    "\n",
    "**Vars and shapes**\n",
    "\n",
    "Forward prop\n",
    "\n",
    "- $A^{[0]} = X$: 784 x m\n",
    "- $Z^{[1]} \\sim A^{[1]}$: 10 x m\n",
    "- $W^{[1]}$: 10 x 784 (as $W^{[1]} A^{[0]} \\sim Z^{[1]}$)\n",
    "- $B^{[1]}$: 10 x 1\n",
    "- $Z^{[2]} \\sim A^{[2]}$: 10 x m\n",
    "- $W^{[1]}$: 10 x 10 (as $W^{[2]} A^{[1]} \\sim Z^{[2]}$)\n",
    "- $B^{[2]}$: 10 x 1\n",
    "\n",
    "Backprop\n",
    "\n",
    "- $dZ^{[2]}$: 10 x m ($~A^{[2]}$)\n",
    "- $dW^{[2]}$: 10 x 10\n",
    "- $dB^{[2]}$: 10 x 1\n",
    "- $dZ^{[1]}$: 10 x m ($~A^{[1]}$)\n",
    "- $dW^{[1]}$: 10 x 10\n",
    "- $dB^{[1]}$: 10 x 1"
   ]
  },
  {
   "cell_type": "code",
   "execution_count": 7,
   "id": "5074fc32",
   "metadata": {
    "execution": {
     "iopub.execute_input": "2024-12-28T23:16:01.599428Z",
     "iopub.status.busy": "2024-12-28T23:16:01.599026Z",
     "iopub.status.idle": "2024-12-28T23:16:01.615555Z",
     "shell.execute_reply": "2024-12-28T23:16:01.614672Z"
    },
    "papermill": {
     "duration": 0.024332,
     "end_time": "2024-12-28T23:16:01.617698",
     "exception": false,
     "start_time": "2024-12-28T23:16:01.593366",
     "status": "completed"
    },
    "tags": []
   },
   "outputs": [],
   "source": [
    "# functions\n",
    "def init_params(input_size, hidden_size, output_size):\n",
    "    W1 = np.random.randn(hidden_size, input_size) * np.sqrt(2 / input_size)\n",
    "    b1 = np.zeros((hidden_size, 1))\n",
    "    W2 = np.random.randn(output_size, hidden_size) * np.sqrt(2 / hidden_size)\n",
    "    b2 = np.zeros((output_size, 1))\n",
    "    return W1, W2, b1, b2\n",
    "\n",
    "def ReLU(z):\n",
    "    return np.maximum(0, z)\n",
    "\n",
    "def softmax(Z):\n",
    "    A = np.exp(Z) / sum(np.exp(Z))\n",
    "    return A\n",
    "\n",
    "\n",
    "def forward_prop(W1, W2, b1, b2, X):\n",
    "    Z1 = W1.dot(X) + b1\n",
    "    A1 = ReLU(Z1)\n",
    "    Z2 = W2.dot(A1) + b2\n",
    "    A2 = softmax(Z2)\n",
    "    return Z1, A1, Z2, A2\n",
    "\n",
    "def one_hot(Y):\n",
    "    one_hot_Y = np.zeros((Y.size, Y.max() + 1))\n",
    "    one_hot_Y[np.arange(Y.size), Y] = 1\n",
    "    one_hot_Y = one_hot_Y.T\n",
    "    return one_hot_Y\n",
    "\n",
    "def deriv_ReLU(z):\n",
    "    return z > 0\n",
    "\n",
    "def back_prop(Z1, A1, Z2, A2, W1, W2, X, Y):\n",
    "    # m = Y.size\n",
    "    one_hot_Y = one_hot(Y)\n",
    "    dZ2 = A2 - one_hot_Y\n",
    "    dW2 = 1 / m * dZ2.dot(A1.T)\n",
    "    db2 = 1 / m * np.sum(dZ2)\n",
    "    dZ1 = W2.T.dot(dZ2) * deriv_ReLU(Z1)\n",
    "    dW1 = 1/ m * dZ1.dot(X.T)\n",
    "    db1 = 1 / m * np.sum(dZ1)\n",
    "    return dW1, db1, dW2, db2\n",
    "\n",
    "def update_params(W1, b1, W2, b2, dW1, db1, dW2, db2, alpha):\n",
    "    W1 = W1 - alpha * dW1\n",
    "    W2 = W2 - alpha * dW2\n",
    "    b1 = b1 - alpha * db1\n",
    "    b2 = b2 - alpha * db2\n",
    "    return W1, b1, W2, b2\n",
    "\n",
    "def get_predictions(A2):\n",
    "    return np.argmax(A2, 0)\n",
    "\n",
    "def get_accuracy(predictions, Y):\n",
    "    return np.sum(predictions == Y) / Y.size\n",
    "\n",
    "def gradient_descent(X, Y, iterations, alpha):\n",
    "    W1, W2, b1, b2 = init_params(784, 10, 10)\n",
    "    for i in range(0, iterations+1):\n",
    "        Z1,A1, Z2, A2 = forward_prop(W1, W2, b1, b2, X)\n",
    "        dW1, db1, dW2, db2 = back_prop(Z1,A1, Z2, A2, W1, W2, X, Y)\n",
    "        W1, b1,W2, b2 = update_params(W1, b1, W2, b2, dW1, db1, dW2, db2, alpha)\n",
    "        if i % 100 == 0:\n",
    "            print(f\"Iteration: {i}\")\n",
    "            print(f\"Accuracy: {get_accuracy(get_predictions(A2), Y)}\")\n",
    "\n",
    "    return W1, b1, W2, b2\n",
    "\n",
    "def make_predictions(X, W1, b1, W2, b2):\n",
    "    _, _, _, A2 = forward_prop(W1, W2, b1, b2, X)\n",
    "    predictions = get_predictions(A2)\n",
    "    return predictions\n",
    "\n",
    "def test_prediction(index, W1, b1, W2, b2):\n",
    "    current_image = X_train[:, index, None]\n",
    "    prediction = make_predictions(X_train[:, index, None], W1, b1, W2, b2)\n",
    "    label = Y_train[index]\n",
    "    print(\"Prediction: \", prediction)\n",
    "    print(\"Label: \", label)\n",
    "    \n",
    "    current_image = current_image.reshape((28, 28)) * 255\n",
    "    plt.gray()\n",
    "    plt.imshow(current_image, interpolation='nearest')\n",
    "    plt.show()"
   ]
  },
  {
   "cell_type": "code",
   "execution_count": 8,
   "id": "89723ad9",
   "metadata": {
    "execution": {
     "iopub.execute_input": "2024-12-28T23:16:01.628783Z",
     "iopub.status.busy": "2024-12-28T23:16:01.628399Z",
     "iopub.status.idle": "2024-12-28T23:17:47.451641Z",
     "shell.execute_reply": "2024-12-28T23:17:47.450581Z"
    },
    "papermill": {
     "duration": 105.832595,
     "end_time": "2024-12-28T23:17:47.455550",
     "exception": false,
     "start_time": "2024-12-28T23:16:01.622955",
     "status": "completed"
    },
    "tags": []
   },
   "outputs": [
    {
     "name": "stdout",
     "output_type": "stream",
     "text": [
      "Iteration: 0\n",
      "Accuracy: 0.1384878048780488\n",
      "Iteration: 100\n",
      "Accuracy: 0.4603170731707317\n",
      "Iteration: 200\n",
      "Accuracy: 0.5832926829268292\n",
      "Iteration: 300\n",
      "Accuracy: 0.7079512195121951\n",
      "Iteration: 400\n",
      "Accuracy: 0.7673658536585366\n",
      "Iteration: 500\n",
      "Accuracy: 0.7938048780487805\n",
      "Iteration: 600\n",
      "Accuracy: 0.8113414634146342\n",
      "Iteration: 700\n",
      "Accuracy: 0.8244146341463414\n",
      "Iteration: 800\n",
      "Accuracy: 0.8326585365853658\n",
      "Iteration: 900\n",
      "Accuracy: 0.8396585365853658\n",
      "Iteration: 1000\n",
      "Accuracy: 0.8453658536585366\n"
     ]
    }
   ],
   "source": [
    "# train the model here\n",
    "epoch = 1000\n",
    "lr = 0.01\n",
    "W1, b1, W2, b2 = gradient_descent(X_train, Y_train, epoch, lr)"
   ]
  },
  {
   "cell_type": "code",
   "execution_count": 9,
   "id": "e7f11270",
   "metadata": {
    "execution": {
     "iopub.execute_input": "2024-12-28T23:17:47.476375Z",
     "iopub.status.busy": "2024-12-28T23:17:47.475045Z",
     "iopub.status.idle": "2024-12-28T23:17:48.317171Z",
     "shell.execute_reply": "2024-12-28T23:17:48.316116Z"
    },
    "papermill": {
     "duration": 0.855093,
     "end_time": "2024-12-28T23:17:48.319484",
     "exception": false,
     "start_time": "2024-12-28T23:17:47.464391",
     "status": "completed"
    },
    "tags": []
   },
   "outputs": [
    {
     "name": "stdout",
     "output_type": "stream",
     "text": [
      "Prediction:  [5]\n",
      "Label:  5\n"
     ]
    },
    {
     "data": {
      "image/png": "[encoded data removed]",
      "text/plain": [
       "<Figure size 640x480 with 1 Axes>"
      ]
     },
     "metadata": {},
     "output_type": "display_data"
    },
    {
     "name": "stdout",
     "output_type": "stream",
     "text": [
      "Prediction:  [7]\n",
      "Label:  7\n"
     ]
    },
    {
     "data": {
      "image/png": "[encoded data removed]",
      "text/plain": [
       "<Figure size 640x480 with 1 Axes>"
      ]
     },
     "metadata": {},
     "output_type": "display_data"
    },
    {
     "name": "stdout",
     "output_type": "stream",
     "text": [
      "Prediction:  [9]\n",
      "Label:  9\n"
     ]
    },
    {
     "data": {
      "image/png": "[encoded data removed]",
      "text/plain": [
       "<Figure size 640x480 with 1 Axes>"
      ]
     },
     "metadata": {},
     "output_type": "display_data"
    },
    {
     "name": "stdout",
     "output_type": "stream",
     "text": [
      "Prediction:  [0]\n",
      "Label:  0\n"
     ]
    },
    {
     "data": {
      "image/png": "[encoded data removed]",
      "text/plain": [
       "<Figure size 640x480 with 1 Axes>"
      ]
     },
     "metadata": {},
     "output_type": "display_data"
    }
   ],
   "source": [
    "test_prediction(0, W1, b1, W2, b2)\n",
    "test_prediction(1, W1, b1, W2, b2)\n",
    "test_prediction(2, W1, b1, W2, b2)\n",
    "test_prediction(3, W1, b1, W2, b2)"
   ]
  },
  {
   "cell_type": "code",
   "execution_count": 10,
   "id": "da26a4d8",
   "metadata": {
    "execution": {
     "iopub.execute_input": "2024-12-28T23:17:48.333794Z",
     "iopub.status.busy": "2024-12-28T23:17:48.333114Z",
     "iopub.status.idle": "2024-12-28T23:17:48.343203Z",
     "shell.execute_reply": "2024-12-28T23:17:48.342107Z"
    },
    "papermill": {
     "duration": 0.019703,
     "end_time": "2024-12-28T23:17:48.345409",
     "exception": false,
     "start_time": "2024-12-28T23:17:48.325706",
     "status": "completed"
    },
    "tags": []
   },
   "outputs": [
    {
     "data": {
      "text/plain": [
       "0.843"
      ]
     },
     "execution_count": 10,
     "metadata": {},
     "output_type": "execute_result"
    }
   ],
   "source": [
    "test_predictions = make_predictions(X_test, W1, b1, W2, b2)\n",
    "get_accuracy(test_predictions, Y_test)"
   ]
  },
  {
   "cell_type": "code",
   "execution_count": 11,
   "id": "72fbee62",
   "metadata": {
    "execution": {
     "iopub.execute_input": "2024-12-28T23:17:48.366022Z",
     "iopub.status.busy": "2024-12-28T23:17:48.365446Z",
     "iopub.status.idle": "2024-12-28T23:17:48.373843Z",
     "shell.execute_reply": "2024-12-28T23:17:48.371917Z"
    },
    "papermill": {
     "duration": 0.025675,
     "end_time": "2024-12-28T23:17:48.377254",
     "exception": false,
     "start_time": "2024-12-28T23:17:48.351579",
     "status": "completed"
    },
    "tags": []
   },
   "outputs": [
    {
     "data": {
      "text/plain": [
       "((784, 1000), (1000,))"
      ]
     },
     "execution_count": 11,
     "metadata": {},
     "output_type": "execute_result"
    }
   ],
   "source": [
    "X_test.shape, test_predictions.shape"
   ]
  },
  {
   "cell_type": "code",
   "execution_count": 12,
   "id": "b4ae4957",
   "metadata": {
    "execution": {
     "iopub.execute_input": "2024-12-28T23:17:48.402819Z",
     "iopub.status.busy": "2024-12-28T23:17:48.402267Z",
     "iopub.status.idle": "2024-12-28T23:17:48.420763Z",
     "shell.execute_reply": "2024-12-28T23:17:48.419631Z"
    },
    "papermill": {
     "duration": 0.035803,
     "end_time": "2024-12-28T23:17:48.424414",
     "exception": false,
     "start_time": "2024-12-28T23:17:48.388611",
     "status": "completed"
    },
    "tags": []
   },
   "outputs": [],
   "source": [
    "s_m, s_n = submission_data.shape\n",
    "imageIndex = [i+1 for i in range(0, s_n)]\n",
    "imageIndex = np.array(imageIndex)"
   ]
  },
  {
   "cell_type": "code",
   "execution_count": 13,
   "id": "486f976a",
   "metadata": {
    "execution": {
     "iopub.execute_input": "2024-12-28T23:17:48.449600Z",
     "iopub.status.busy": "2024-12-28T23:17:48.449032Z",
     "iopub.status.idle": "2024-12-28T23:17:48.508339Z",
     "shell.execute_reply": "2024-12-28T23:17:48.507149Z"
    },
    "papermill": {
     "duration": 0.076435,
     "end_time": "2024-12-28T23:17:48.512361",
     "exception": false,
     "start_time": "2024-12-28T23:17:48.435926",
     "status": "completed"
    },
    "tags": []
   },
   "outputs": [],
   "source": [
    "submission_pred = make_predictions(submission_data, W1, b1, W2, b2)\n",
    "\n",
    "submission_df = pd.DataFrame({\n",
    "    \"ImageId\": imageIndex,\n",
    "    \"Label\": submission_pred\n",
    "})"
   ]
  },
  {
   "cell_type": "code",
   "execution_count": 14,
   "id": "43c353e8",
   "metadata": {
    "execution": {
     "iopub.execute_input": "2024-12-28T23:17:48.537484Z",
     "iopub.status.busy": "2024-12-28T23:17:48.536922Z",
     "iopub.status.idle": "2024-12-28T23:17:48.590238Z",
     "shell.execute_reply": "2024-12-28T23:17:48.589117Z"
    },
    "papermill": {
     "duration": 0.070487,
     "end_time": "2024-12-28T23:17:48.594472",
     "exception": false,
     "start_time": "2024-12-28T23:17:48.523985",
     "status": "completed"
    },
    "tags": []
   },
   "outputs": [],
   "source": [
    "submission_df = submission_df.reset_index(drop=True)\n",
    "submission_df.to_csv(\"submission.csv\", index=False)"
   ]
  },
  {
   "cell_type": "code",
   "execution_count": 15,
   "id": "a50118a6",
   "metadata": {
    "execution": {
     "iopub.execute_input": "2024-12-28T23:17:48.616772Z",
     "iopub.status.busy": "2024-12-28T23:17:48.616375Z",
     "iopub.status.idle": "2024-12-28T23:17:48.621817Z",
     "shell.execute_reply": "2024-12-28T23:17:48.620582Z"
    },
    "papermill": {
     "duration": 0.01826,
     "end_time": "2024-12-28T23:17:48.624135",
     "exception": false,
     "start_time": "2024-12-28T23:17:48.605875",
     "status": "completed"
    },
    "tags": []
   },
   "outputs": [
    {
     "name": "stdout",
     "output_type": "stream",
     "text": [
      "/kaggle/working/submission.csv\n",
      "/kaggle/working/__notebook__.ipynb\n"
     ]
    }
   ],
   "source": [
    "import os\n",
    "for dirname, _, filenames in os.walk('/kaggle/working'):\n",
    "    for filename in filenames:\n",
    "        print(os.path.join(dirname, filename))"
   ]
  },
  {
   "cell_type": "code",
   "execution_count": null,
   "id": "a6e5768e",
   "metadata": {
    "papermill": {
     "duration": 0.005965,
     "end_time": "2024-12-28T23:17:48.636412",
     "exception": false,
     "start_time": "2024-12-28T23:17:48.630447",
     "status": "completed"
    },
    "tags": []
   },
   "outputs": [],
   "source": []
  }
 ],
 "metadata": {
  "kaggle": {
   "accelerator": "none",
   "dataSources": [
    {
     "databundleVersionId": 861823,
     "sourceId": 3004,
     "sourceType": "competition"
    }
   ],
   "dockerImageVersionId": 30786,
   "isGpuEnabled": false,
   "isInternetEnabled": false,
   "language": "python",
   "sourceType": "notebook"
  },
  "kernelspec": {
   "display_name": "Python 3",
   "language": "python",
   "name": "python3"
  },
  "language_info": {
   "codemirror_mode": {
    "name": "ipython",
    "version": 3
   },
   "file_extension": ".py",
   "mimetype": "text/x-python",
   "name": "python",
   "nbconvert_exporter": "python",
   "pygments_lexer": "ipython3",
   "version": "3.10.14"
  },
  "papermill": {
   "default_parameters": {},
   "duration": 118.365554,
   "end_time": "2024-12-28T23:17:49.163777",
   "environment_variables": {},
   "exception": null,
   "input_path": "__notebook__.ipynb",
   "output_path": "__notebook__.ipynb",
   "parameters": {},
   "start_time": "2024-12-28T23:15:50.798223",
   "version": "2.6.0"
  }
 },
 "nbformat": 4,
 "nbformat_minor": 5
}
