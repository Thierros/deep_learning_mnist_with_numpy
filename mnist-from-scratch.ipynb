{
 "cells": [
  {
   "cell_type": "code",
   "execution_count": 1,
   "id": "32ecc1c1",
   "metadata": {
    "execution": {
     "iopub.execute_input": "2024-12-04T05:42:27.827926Z",
     "iopub.status.busy": "2024-12-04T05:42:27.827372Z",
     "iopub.status.idle": "2024-12-04T05:42:28.852425Z",
     "shell.execute_reply": "2024-12-04T05:42:28.851142Z"
    },
    "papermill": {
     "duration": 1.033827,
     "end_time": "2024-12-04T05:42:28.854851",
     "exception": false,
     "start_time": "2024-12-04T05:42:27.821024",
     "status": "completed"
    },
    "tags": []
   },
   "outputs": [],
   "source": [
    "import numpy as np\n",
    "import pandas as pd\n",
    "import matplotlib.pyplot as plt\n",
    "from tqdm import tqdm"
   ]
  },
  {
   "cell_type": "code",
   "execution_count": 2,
   "id": "1a08b920",
   "metadata": {
    "execution": {
     "iopub.execute_input": "2024-12-04T05:42:28.864708Z",
     "iopub.status.busy": "2024-12-04T05:42:28.864128Z",
     "iopub.status.idle": "2024-12-04T05:42:28.872278Z",
     "shell.execute_reply": "2024-12-04T05:42:28.871037Z"
    },
    "papermill": {
     "duration": 0.015496,
     "end_time": "2024-12-04T05:42:28.874515",
     "exception": false,
     "start_time": "2024-12-04T05:42:28.859019",
     "status": "completed"
    },
    "tags": []
   },
   "outputs": [
    {
     "name": "stdout",
     "output_type": "stream",
     "text": [
      "/kaggle/input/digit-recognizer/sample_submission.csv\n",
      "/kaggle/input/digit-recognizer/train.csv\n",
      "/kaggle/input/digit-recognizer/test.csv\n"
     ]
    }
   ],
   "source": [
    "import os\n",
    "for dirname, _, filenames in os.walk('/kaggle/input'):\n",
    "    for filename in filenames:\n",
    "        print(os.path.join(dirname, filename))"
   ]
  },
  {
   "cell_type": "code",
   "execution_count": 3,
   "id": "9cbf49c6",
   "metadata": {
    "execution": {
     "iopub.execute_input": "2024-12-04T05:42:28.884395Z",
     "iopub.status.busy": "2024-12-04T05:42:28.883955Z",
     "iopub.status.idle": "2024-12-04T05:42:34.378170Z",
     "shell.execute_reply": "2024-12-04T05:42:34.377048Z"
    },
    "papermill": {
     "duration": 5.502528,
     "end_time": "2024-12-04T05:42:34.381104",
     "exception": false,
     "start_time": "2024-12-04T05:42:28.878576",
     "status": "completed"
    },
    "tags": []
   },
   "outputs": [],
   "source": [
    "train_data = pd.read_csv('/kaggle/input/digit-recognizer/train.csv')\n",
    "test_data = pd.read_csv('/kaggle/input/digit-recognizer/test.csv')\n"
   ]
  },
  {
   "cell_type": "code",
   "execution_count": 4,
   "id": "93fed80d",
   "metadata": {
    "execution": {
     "iopub.execute_input": "2024-12-04T05:42:34.391094Z",
     "iopub.status.busy": "2024-12-04T05:42:34.390692Z",
     "iopub.status.idle": "2024-12-04T05:42:34.419456Z",
     "shell.execute_reply": "2024-12-04T05:42:34.417908Z"
    },
    "papermill": {
     "duration": 0.037063,
     "end_time": "2024-12-04T05:42:34.422376",
     "exception": false,
     "start_time": "2024-12-04T05:42:34.385313",
     "status": "completed"
    },
    "tags": []
   },
   "outputs": [
    {
     "data": {
      "text/html": [
       "<div>\n",
       "<style scoped>\n",
       "    .dataframe tbody tr th:only-of-type {\n",
       "        vertical-align: middle;\n",
       "    }\n",
       "\n",
       "    .dataframe tbody tr th {\n",
       "        vertical-align: top;\n",
       "    }\n",
       "\n",
       "    .dataframe thead th {\n",
       "        text-align: right;\n",
       "    }\n",
       "</style>\n",
       "<table border=\"1\" class=\"dataframe\">\n",
       "  <thead>\n",
       "    <tr style=\"text-align: right;\">\n",
       "      <th></th>\n",
       "      <th>label</th>\n",
       "      <th>pixel0</th>\n",
       "      <th>pixel1</th>\n",
       "      <th>pixel2</th>\n",
       "      <th>pixel3</th>\n",
       "      <th>pixel4</th>\n",
       "      <th>pixel5</th>\n",
       "      <th>pixel6</th>\n",
       "      <th>pixel7</th>\n",
       "      <th>pixel8</th>\n",
       "      <th>...</th>\n",
       "      <th>pixel774</th>\n",
       "      <th>pixel775</th>\n",
       "      <th>pixel776</th>\n",
       "      <th>pixel777</th>\n",
       "      <th>pixel778</th>\n",
       "      <th>pixel779</th>\n",
       "      <th>pixel780</th>\n",
       "      <th>pixel781</th>\n",
       "      <th>pixel782</th>\n",
       "      <th>pixel783</th>\n",
       "    </tr>\n",
       "  </thead>\n",
       "  <tbody>\n",
       "    <tr>\n",
       "      <th>0</th>\n",
       "      <td>1</td>\n",
       "      <td>0</td>\n",
       "      <td>0</td>\n",
       "      <td>0</td>\n",
       "      <td>0</td>\n",
       "      <td>0</td>\n",
       "      <td>0</td>\n",
       "      <td>0</td>\n",
       "      <td>0</td>\n",
       "      <td>0</td>\n",
       "      <td>...</td>\n",
       "      <td>0</td>\n",
       "      <td>0</td>\n",
       "      <td>0</td>\n",
       "      <td>0</td>\n",
       "      <td>0</td>\n",
       "      <td>0</td>\n",
       "      <td>0</td>\n",
       "      <td>0</td>\n",
       "      <td>0</td>\n",
       "      <td>0</td>\n",
       "    </tr>\n",
       "    <tr>\n",
       "      <th>1</th>\n",
       "      <td>0</td>\n",
       "      <td>0</td>\n",
       "      <td>0</td>\n",
       "      <td>0</td>\n",
       "      <td>0</td>\n",
       "      <td>0</td>\n",
       "      <td>0</td>\n",
       "      <td>0</td>\n",
       "      <td>0</td>\n",
       "      <td>0</td>\n",
       "      <td>...</td>\n",
       "      <td>0</td>\n",
       "      <td>0</td>\n",
       "      <td>0</td>\n",
       "      <td>0</td>\n",
       "      <td>0</td>\n",
       "      <td>0</td>\n",
       "      <td>0</td>\n",
       "      <td>0</td>\n",
       "      <td>0</td>\n",
       "      <td>0</td>\n",
       "    </tr>\n",
       "    <tr>\n",
       "      <th>2</th>\n",
       "      <td>1</td>\n",
       "      <td>0</td>\n",
       "      <td>0</td>\n",
       "      <td>0</td>\n",
       "      <td>0</td>\n",
       "      <td>0</td>\n",
       "      <td>0</td>\n",
       "      <td>0</td>\n",
       "      <td>0</td>\n",
       "      <td>0</td>\n",
       "      <td>...</td>\n",
       "      <td>0</td>\n",
       "      <td>0</td>\n",
       "      <td>0</td>\n",
       "      <td>0</td>\n",
       "      <td>0</td>\n",
       "      <td>0</td>\n",
       "      <td>0</td>\n",
       "      <td>0</td>\n",
       "      <td>0</td>\n",
       "      <td>0</td>\n",
       "    </tr>\n",
       "    <tr>\n",
       "      <th>3</th>\n",
       "      <td>4</td>\n",
       "      <td>0</td>\n",
       "      <td>0</td>\n",
       "      <td>0</td>\n",
       "      <td>0</td>\n",
       "      <td>0</td>\n",
       "      <td>0</td>\n",
       "      <td>0</td>\n",
       "      <td>0</td>\n",
       "      <td>0</td>\n",
       "      <td>...</td>\n",
       "      <td>0</td>\n",
       "      <td>0</td>\n",
       "      <td>0</td>\n",
       "      <td>0</td>\n",
       "      <td>0</td>\n",
       "      <td>0</td>\n",
       "      <td>0</td>\n",
       "      <td>0</td>\n",
       "      <td>0</td>\n",
       "      <td>0</td>\n",
       "    </tr>\n",
       "    <tr>\n",
       "      <th>4</th>\n",
       "      <td>0</td>\n",
       "      <td>0</td>\n",
       "      <td>0</td>\n",
       "      <td>0</td>\n",
       "      <td>0</td>\n",
       "      <td>0</td>\n",
       "      <td>0</td>\n",
       "      <td>0</td>\n",
       "      <td>0</td>\n",
       "      <td>0</td>\n",
       "      <td>...</td>\n",
       "      <td>0</td>\n",
       "      <td>0</td>\n",
       "      <td>0</td>\n",
       "      <td>0</td>\n",
       "      <td>0</td>\n",
       "      <td>0</td>\n",
       "      <td>0</td>\n",
       "      <td>0</td>\n",
       "      <td>0</td>\n",
       "      <td>0</td>\n",
       "    </tr>\n",
       "  </tbody>\n",
       "</table>\n",
       "<p>5 rows × 785 columns</p>\n",
       "</div>"
      ],
      "text/plain": [
       "   label  pixel0  pixel1  pixel2  pixel3  pixel4  pixel5  pixel6  pixel7  \\\n",
       "0      1       0       0       0       0       0       0       0       0   \n",
       "1      0       0       0       0       0       0       0       0       0   \n",
       "2      1       0       0       0       0       0       0       0       0   \n",
       "3      4       0       0       0       0       0       0       0       0   \n",
       "4      0       0       0       0       0       0       0       0       0   \n",
       "\n",
       "   pixel8  ...  pixel774  pixel775  pixel776  pixel777  pixel778  pixel779  \\\n",
       "0       0  ...         0         0         0         0         0         0   \n",
       "1       0  ...         0         0         0         0         0         0   \n",
       "2       0  ...         0         0         0         0         0         0   \n",
       "3       0  ...         0         0         0         0         0         0   \n",
       "4       0  ...         0         0         0         0         0         0   \n",
       "\n",
       "   pixel780  pixel781  pixel782  pixel783  \n",
       "0         0         0         0         0  \n",
       "1         0         0         0         0  \n",
       "2         0         0         0         0  \n",
       "3         0         0         0         0  \n",
       "4         0         0         0         0  \n",
       "\n",
       "[5 rows x 785 columns]"
      ]
     },
     "execution_count": 4,
     "metadata": {},
     "output_type": "execute_result"
    }
   ],
   "source": [
    "train_data.head()"
   ]
  },
  {
   "cell_type": "code",
   "execution_count": 5,
   "id": "81e2d0f6",
   "metadata": {
    "execution": {
     "iopub.execute_input": "2024-12-04T05:42:34.434755Z",
     "iopub.status.busy": "2024-12-04T05:42:34.434386Z",
     "iopub.status.idle": "2024-12-04T05:42:35.235705Z",
     "shell.execute_reply": "2024-12-04T05:42:35.234593Z"
    },
    "papermill": {
     "duration": 0.811098,
     "end_time": "2024-12-04T05:42:35.238507",
     "exception": false,
     "start_time": "2024-12-04T05:42:34.427409",
     "status": "completed"
    },
    "tags": []
   },
   "outputs": [],
   "source": [
    "data =  np.array(train_data)\n",
    "submission_data = np.array(test_data)\n",
    "m, n = data.shape\n",
    "\n",
    "np.random.shuffle(data)"
   ]
  },
  {
   "cell_type": "code",
   "execution_count": 6,
   "id": "b4ca0cc6",
   "metadata": {
    "execution": {
     "iopub.execute_input": "2024-12-04T05:42:35.249423Z",
     "iopub.status.busy": "2024-12-04T05:42:35.249022Z",
     "iopub.status.idle": "2024-12-04T05:42:35.496560Z",
     "shell.execute_reply": "2024-12-04T05:42:35.495126Z"
    },
    "papermill": {
     "duration": 0.256144,
     "end_time": "2024-12-04T05:42:35.499090",
     "exception": false,
     "start_time": "2024-12-04T05:42:35.242946",
     "status": "completed"
    },
    "tags": []
   },
   "outputs": [],
   "source": [
    "data_test = data[0:1000].T\n",
    "X_test = data_test[1:n]\n",
    "Y_test = data_test[0]\n",
    "X_test = X_test / 255.\n",
    "\n",
    "data_train = data[1000:m].T\n",
    "X_train = data_train[1:n]\n",
    "Y_train = data_train[0]\n",
    "X_train = X_train / 255.\n",
    "\n",
    "submission_data = (submission_data / 255.)\n",
    "submission_data = submission_data.T"
   ]
  },
  {
   "cell_type": "code",
   "execution_count": 7,
   "id": "c4ae4bc1",
   "metadata": {
    "execution": {
     "iopub.execute_input": "2024-12-04T05:42:35.509490Z",
     "iopub.status.busy": "2024-12-04T05:42:35.509088Z",
     "iopub.status.idle": "2024-12-04T05:42:35.527513Z",
     "shell.execute_reply": "2024-12-04T05:42:35.526198Z"
    },
    "papermill": {
     "duration": 0.026353,
     "end_time": "2024-12-04T05:42:35.529956",
     "exception": false,
     "start_time": "2024-12-04T05:42:35.503603",
     "status": "completed"
    },
    "tags": []
   },
   "outputs": [],
   "source": [
    "# functions\n",
    "def init_params(input_size, hidden_size, output_size):\n",
    "    W1 = np.random.randn(hidden_size, input_size) * np.sqrt(2 / input_size)\n",
    "    b1 = np.zeros((hidden_size, 1))\n",
    "    W2 = np.random.randn(output_size, hidden_size) * np.sqrt(2 / hidden_size)\n",
    "    b2 = np.zeros((output_size, 1))\n",
    "    return W1, W2, b1, b2\n",
    "\n",
    "def ReLU(z):\n",
    "    return np.maximum(0, z)\n",
    "\n",
    "def softmax(Z):\n",
    "    A = np.exp(Z) / sum(np.exp(Z))\n",
    "    return A\n",
    "\n",
    "\n",
    "def forward_prop(W1, W2, b1, b2, X):\n",
    "    Z1 = W1.dot(X) + b1\n",
    "    A1 = ReLU(Z1)\n",
    "    Z2 = W2.dot(A1) + b2\n",
    "    A2 = softmax(Z2)\n",
    "    return Z1, A1, Z2, A2\n",
    "\n",
    "def one_hot(Y):\n",
    "    one_hot_Y = np.zeros((Y.size, Y.max() + 1))\n",
    "    one_hot_Y[np.arange(Y.size), Y] = 1\n",
    "    one_hot_Y = one_hot_Y.T\n",
    "    return one_hot_Y\n",
    "\n",
    "def deriv_ReLU(z):\n",
    "    return z > 0\n",
    "\n",
    "def back_prop(Z1, A1, Z2, A2, W1, W2, X, Y):\n",
    "    # m = Y.size\n",
    "    one_hot_Y = one_hot(Y)\n",
    "    dZ2 = A2 - one_hot_Y\n",
    "    dW2 = 1 / m * dZ2.dot(A1.T)\n",
    "    db2 = 1 / m * np.sum(dZ2)\n",
    "    dZ1 = W2.T.dot(dZ2) * deriv_ReLU(Z1)\n",
    "    dW1 = 1/ m * dZ1.dot(X.T)\n",
    "    db1 = 1 / m * np.sum(dZ1)\n",
    "    return dW1, db1, dW2, db2\n",
    "\n",
    "def update_params(W1, b1, W2, b2, dW1, db1, dW2, db2, alpha):\n",
    "    W1 = W1 - alpha * dW1\n",
    "    W2 = W2 - alpha * dW2\n",
    "    b1 = b1 - alpha * db1\n",
    "    b2 = b2 - alpha * db2\n",
    "    return W1, b1, W2, b2\n",
    "\n",
    "def get_predictions(A2):\n",
    "    return np.argmax(A2, 0)\n",
    "\n",
    "def get_accuracy(predictions, Y):\n",
    "    return np.sum(predictions == Y) / Y.size\n",
    "\n",
    "def gradient_descent(X, Y, iterations, alpha):\n",
    "    W1, W2, b1, b2 = init_params(784, 10, 10)\n",
    "    for i in range(0, iterations+1):\n",
    "        Z1,A1, Z2, A2 = forward_prop(W1, W2, b1, b2, X)\n",
    "        dW1, db1, dW2, db2 = back_prop(Z1,A1, Z2, A2, W1, W2, X, Y)\n",
    "        W1, b1,W2, b2 = update_params(W1, b1, W2, b2, dW1, db1, dW2, db2, alpha)\n",
    "        if i % 100 == 0:\n",
    "            print(f\"Iteration: {i}\")\n",
    "            print(f\"Accuracy: {get_accuracy(get_predictions(A2), Y)}\")\n",
    "\n",
    "    return W1, b1, W2, b2\n",
    "\n",
    "def make_predictions(X, W1, b1, W2, b2):\n",
    "    _, _, _, A2 = forward_prop(W1, W2, b1, b2, X)\n",
    "    predictions = get_predictions(A2)\n",
    "    return predictions\n",
    "\n",
    "def test_prediction(index, W1, b1, W2, b2):\n",
    "    current_image = X_train[:, index, None]\n",
    "    prediction = make_predictions(X_train[:, index, None], W1, b1, W2, b2)\n",
    "    label = Y_train[index]\n",
    "    print(\"Prediction: \", prediction)\n",
    "    print(\"Label: \", label)\n",
    "    \n",
    "    current_image = current_image.reshape((28, 28)) * 255\n",
    "    plt.gray()\n",
    "    plt.imshow(current_image, interpolation='nearest')\n",
    "    plt.show()"
   ]
  },
  {
   "cell_type": "code",
   "execution_count": 8,
   "id": "2775935f",
   "metadata": {
    "execution": {
     "iopub.execute_input": "2024-12-04T05:42:35.540163Z",
     "iopub.status.busy": "2024-12-04T05:42:35.539767Z",
     "iopub.status.idle": "2024-12-04T05:44:42.650673Z",
     "shell.execute_reply": "2024-12-04T05:44:42.648487Z"
    },
    "papermill": {
     "duration": 127.120648,
     "end_time": "2024-12-04T05:44:42.654884",
     "exception": false,
     "start_time": "2024-12-04T05:42:35.534236",
     "status": "completed"
    },
    "tags": []
   },
   "outputs": [
    {
     "name": "stdout",
     "output_type": "stream",
     "text": [
      "Iteration: 0\n",
      "Accuracy: 0.09448780487804878\n",
      "Iteration: 100\n",
      "Accuracy: 0.8413658536585366\n",
      "Iteration: 200\n",
      "Accuracy: 0.8827804878048781\n",
      "Iteration: 300\n",
      "Accuracy: 0.8943414634146342\n",
      "Iteration: 400\n",
      "Accuracy: 0.9011463414634147\n",
      "Iteration: 500\n",
      "Accuracy: 0.9059024390243903\n",
      "Iteration: 600\n",
      "Accuracy: 0.9090487804878049\n",
      "Iteration: 700\n",
      "Accuracy: 0.911219512195122\n",
      "Iteration: 800\n",
      "Accuracy: 0.9136341463414634\n",
      "Iteration: 900\n",
      "Accuracy: 0.9159268292682927\n",
      "Iteration: 1000\n",
      "Accuracy: 0.9172439024390244\n"
     ]
    }
   ],
   "source": [
    "# train th model here\n",
    "W1, b1, W2, b2 = gradient_descent(X_train, Y_train, 1000, 0.10)"
   ]
  },
  {
   "cell_type": "code",
   "execution_count": 9,
   "id": "5a26ed0d",
   "metadata": {
    "execution": {
     "iopub.execute_input": "2024-12-04T05:44:42.684899Z",
     "iopub.status.busy": "2024-12-04T05:44:42.684237Z",
     "iopub.status.idle": "2024-12-04T05:44:43.671782Z",
     "shell.execute_reply": "2024-12-04T05:44:43.670278Z"
    },
    "papermill": {
     "duration": 1.005995,
     "end_time": "2024-12-04T05:44:43.674312",
     "exception": false,
     "start_time": "2024-12-04T05:44:42.668317",
     "status": "completed"
    },
    "tags": []
   },
   "outputs": [
    {
     "name": "stdout",
     "output_type": "stream",
     "text": [
      "Prediction:  [1]\n",
      "Label:  1\n"
     ]
    },
    {
     "data": {
      "image/png": "[encoded data removed]",
      "text/plain": [
       "<Figure size 640x480 with 1 Axes>"
      ]
     },
     "metadata": {},
     "output_type": "display_data"
    },
    {
     "name": "stdout",
     "output_type": "stream",
     "text": [
      "Prediction:  [0]\n",
      "Label:  0\n"
     ]
    },
    {
     "data": {
      "image/png": "[encoded data removed]",
      "text/plain": [
       "<Figure size 640x480 with 1 Axes>"
      ]
     },
     "metadata": {},
     "output_type": "display_data"
    },
    {
     "name": "stdout",
     "output_type": "stream",
     "text": [
      "Prediction:  [3]\n",
      "Label:  3\n"
     ]
    },
    {
     "data": {
      "image/png": "[encoded data removed]",
      "text/plain": [
       "<Figure size 640x480 with 1 Axes>"
      ]
     },
     "metadata": {},
     "output_type": "display_data"
    },
    {
     "name": "stdout",
     "output_type": "stream",
     "text": [
      "Prediction:  [6]\n",
      "Label:  6\n"
     ]
    },
    {
     "data": {
      "image/png": "[encoded data removed]",
      "text/plain": [
       "<Figure size 640x480 with 1 Axes>"
      ]
     },
     "metadata": {},
     "output_type": "display_data"
    }
   ],
   "source": [
    "test_prediction(0, W1, b1, W2, b2)\n",
    "test_prediction(1, W1, b1, W2, b2)\n",
    "test_prediction(2, W1, b1, W2, b2)\n",
    "test_prediction(3, W1, b1, W2, b2)"
   ]
  },
  {
   "cell_type": "code",
   "execution_count": 10,
   "id": "151fc899",
   "metadata": {
    "execution": {
     "iopub.execute_input": "2024-12-04T05:44:43.688198Z",
     "iopub.status.busy": "2024-12-04T05:44:43.687668Z",
     "iopub.status.idle": "2024-12-04T05:44:43.703413Z",
     "shell.execute_reply": "2024-12-04T05:44:43.698757Z"
    },
    "papermill": {
     "duration": 0.027485,
     "end_time": "2024-12-04T05:44:43.707876",
     "exception": false,
     "start_time": "2024-12-04T05:44:43.680391",
     "status": "completed"
    },
    "tags": []
   },
   "outputs": [
    {
     "data": {
      "text/plain": [
       "0.915"
      ]
     },
     "execution_count": 10,
     "metadata": {},
     "output_type": "execute_result"
    }
   ],
   "source": [
    "test_predictions = make_predictions(X_test, W1, b1, W2, b2)\n",
    "get_accuracy(test_predictions, Y_test)"
   ]
  },
  {
   "cell_type": "code",
   "execution_count": 11,
   "id": "768f76ae",
   "metadata": {
    "execution": {
     "iopub.execute_input": "2024-12-04T05:44:43.745821Z",
     "iopub.status.busy": "2024-12-04T05:44:43.744406Z",
     "iopub.status.idle": "2024-12-04T05:44:43.755405Z",
     "shell.execute_reply": "2024-12-04T05:44:43.753110Z"
    },
    "papermill": {
     "duration": 0.03521,
     "end_time": "2024-12-04T05:44:43.759763",
     "exception": false,
     "start_time": "2024-12-04T05:44:43.724553",
     "status": "completed"
    },
    "tags": []
   },
   "outputs": [
    {
     "data": {
      "text/plain": [
       "((784, 1000), (1000,))"
      ]
     },
     "execution_count": 11,
     "metadata": {},
     "output_type": "execute_result"
    }
   ],
   "source": [
    "X_test.shape, test_predictions.shape"
   ]
  },
  {
   "cell_type": "code",
   "execution_count": 12,
   "id": "1536dfb1",
   "metadata": {
    "execution": {
     "iopub.execute_input": "2024-12-04T05:44:43.795971Z",
     "iopub.status.busy": "2024-12-04T05:44:43.795194Z",
     "iopub.status.idle": "2024-12-04T05:44:43.815404Z",
     "shell.execute_reply": "2024-12-04T05:44:43.814320Z"
    },
    "papermill": {
     "duration": 0.040811,
     "end_time": "2024-12-04T05:44:43.817683",
     "exception": false,
     "start_time": "2024-12-04T05:44:43.776872",
     "status": "completed"
    },
    "tags": []
   },
   "outputs": [],
   "source": [
    "s_m, s_n = submission_data.shape\n",
    "imageIndex = [i+1 for i in range(0, s_n)]\n",
    "imageIndex = np.array(imageIndex)"
   ]
  },
  {
   "cell_type": "code",
   "execution_count": 13,
   "id": "45558976",
   "metadata": {
    "execution": {
     "iopub.execute_input": "2024-12-04T05:44:43.833016Z",
     "iopub.status.busy": "2024-12-04T05:44:43.832636Z",
     "iopub.status.idle": "2024-12-04T05:44:43.894741Z",
     "shell.execute_reply": "2024-12-04T05:44:43.893319Z"
    },
    "papermill": {
     "duration": 0.074924,
     "end_time": "2024-12-04T05:44:43.899101",
     "exception": false,
     "start_time": "2024-12-04T05:44:43.824177",
     "status": "completed"
    },
    "tags": []
   },
   "outputs": [],
   "source": [
    "submission_pred = make_predictions(submission_data, W1, b1, W2, b2)\n",
    "\n",
    "submission_df = pd.DataFrame({\n",
    "    \"ImageId\": imageIndex,\n",
    "    \"Label\": submission_pred\n",
    "})"
   ]
  },
  {
   "cell_type": "code",
   "execution_count": 14,
   "id": "2355e739",
   "metadata": {
    "execution": {
     "iopub.execute_input": "2024-12-04T05:44:43.937533Z",
     "iopub.status.busy": "2024-12-04T05:44:43.936649Z",
     "iopub.status.idle": "2024-12-04T05:44:44.004037Z",
     "shell.execute_reply": "2024-12-04T05:44:44.001730Z"
    },
    "papermill": {
     "duration": 0.091547,
     "end_time": "2024-12-04T05:44:44.007291",
     "exception": false,
     "start_time": "2024-12-04T05:44:43.915744",
     "status": "completed"
    },
    "tags": []
   },
   "outputs": [],
   "source": [
    "submission_df = submission_df.reset_index(drop=True)\n",
    "submission_df.to_csv(\"submission.csv\", index=False)"
   ]
  },
  {
   "cell_type": "code",
   "execution_count": 15,
   "id": "c6ce9e6a",
   "metadata": {
    "execution": {
     "iopub.execute_input": "2024-12-04T05:44:44.022078Z",
     "iopub.status.busy": "2024-12-04T05:44:44.021653Z",
     "iopub.status.idle": "2024-12-04T05:44:44.029283Z",
     "shell.execute_reply": "2024-12-04T05:44:44.027811Z"
    },
    "papermill": {
     "duration": 0.01867,
     "end_time": "2024-12-04T05:44:44.032299",
     "exception": false,
     "start_time": "2024-12-04T05:44:44.013629",
     "status": "completed"
    },
    "tags": []
   },
   "outputs": [
    {
     "name": "stdout",
     "output_type": "stream",
     "text": [
      "/kaggle/working/submission.csv\n",
      "/kaggle/working/__notebook__.ipynb\n"
     ]
    }
   ],
   "source": [
    "import os\n",
    "for dirname, _, filenames in os.walk('/kaggle/working'):\n",
    "    for filename in filenames:\n",
    "        print(os.path.join(dirname, filename))"
   ]
  },
  {
   "cell_type": "code",
   "execution_count": null,
   "id": "5d35791a",
   "metadata": {
    "papermill": {
     "duration": 0.007024,
     "end_time": "2024-12-04T05:44:44.047026",
     "exception": false,
     "start_time": "2024-12-04T05:44:44.040002",
     "status": "completed"
    },
    "tags": []
   },
   "outputs": [],
   "source": []
  }
 ],
 "metadata": {
  "kaggle": {
   "accelerator": "none",
   "dataSources": [
    {
     "databundleVersionId": 861823,
     "sourceId": 3004,
     "sourceType": "competition"
    }
   ],
   "dockerImageVersionId": 30786,
   "isGpuEnabled": false,
   "isInternetEnabled": false,
   "language": "python",
   "sourceType": "notebook"
  },
  "kernelspec": {
   "display_name": "Python 3",
   "language": "python",
   "name": "python3"
  },
  "language_info": {
   "codemirror_mode": {
    "name": "ipython",
    "version": 3
   },
   "file_extension": ".py",
   "mimetype": "text/x-python",
   "name": "python",
   "nbconvert_exporter": "python",
   "pygments_lexer": "ipython3",
   "version": "3.10.14"
  },
  "papermill": {
   "default_parameters": {},
   "duration": 139.839602,
   "end_time": "2024-12-04T05:44:44.677410",
   "environment_variables": {},
   "exception": null,
   "input_path": "__notebook__.ipynb",
   "output_path": "__notebook__.ipynb",
   "parameters": {},
   "start_time": "2024-12-04T05:42:24.837808",
   "version": "2.6.0"
  }
 },
 "nbformat": 4,
 "nbformat_minor": 5
}
